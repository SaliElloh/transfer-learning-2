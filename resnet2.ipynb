{
 "cells": [
  {
   "cell_type": "code",
   "execution_count": 1,
   "metadata": {},
   "outputs": [],
   "source": [
    "import wget\n",
    "import tensorflow as tf\n",
    "import os\n",
    "from zipfile import PyZipFile\n",
    "import shutil\n",
    "import glob\n",
    "import pandas as pd\n",
    "import tensorflow as tf\n",
    "temp_dir = 'data/temp'\n",
    "orig_dir = 'data/images'\n",
    "train_dir = 'data/train'\n",
    "val_dir = 'data/val'\n",
    "\n",
    "url = 'https://archive.ics.uci.edu/dataset/378/drivface.zip'\n",
    "\n",
    "HEIGHT = 224\n",
    "WIDTH = 224\n",
    "CHANNELS = 3\n",
    "SHAPE = (HEIGHT, WIDTH, CHANNELS)\n",
    "    "
   ]
  },
  {
   "cell_type": "code",
   "execution_count": 2,
   "metadata": {},
   "outputs": [],
   "source": [
    "# Directory Locations\n",
    "\n",
    "drivFace_images = \"C:/Users/selloh/Desktop/Datasets/DrivFace.zip\"\n",
    "drivFace_annotations = 'C:/Users/selloh/Desktop/Datasets/DrivFace/drivPoints.txt'\n"
   ]
  },
  {
   "cell_type": "code",
   "execution_count": 3,
   "metadata": {},
   "outputs": [],
   "source": [
    "temp_dir = 'data/temp'\n",
    "orig_dir = 'data/images'\n",
    "train_dir = 'data/train'\n",
    "val_dir = 'data/val'"
   ]
  },
  {
   "cell_type": "code",
   "execution_count": 4,
   "metadata": {},
   "outputs": [],
   "source": [
    "def load_dataset():\n",
    "  if not os.path.exists(orig_dir):\n",
    "    \n",
    "    # download the dataset\n",
    "    \n",
    "    os.makedirs(temp_dir)\n",
    "    os.makedirs(orig_dir)\n",
    "    print(\"Downloading dataset to \"+ temp_dir)\n",
    "    file = drivFace_images\n",
    "    print(\"\\nUnzipping the files..\")\n",
    "    pzf = PyZipFile(file)\n",
    "    pzf.extractall(temp_dir)\n",
    "    pzf = PyZipFile(temp_dir+'/DrivFace/DrivImages.zip')\n",
    "    pzf.extractall(temp_dir)\n",
    "    print(\"Moving files to \"+orig_dir)\n",
    "    for file in os.listdir(temp_dir+'/DrivImages'):\n",
    "      shutil.move(temp_dir+'/DrivImages/'+file,orig_dir+'/'+file)\n",
    "    shutil.move(temp_dir+'/DrivFace/drivPoints.txt',orig_dir+'/drivPoints.txt')\n",
    "    print(\"Deleting temporary directory \"+ temp_dir)\n",
    "    shutil.rmtree(temp_dir)\n"
   ]
  },
  {
   "cell_type": "code",
   "execution_count": 5,
   "metadata": {},
   "outputs": [
    {
     "name": "stdout",
     "output_type": "stream",
     "text": [
      "Downloading dataset to data/temp\n",
      "\n",
      "Unzipping the files..\n",
      "Moving files to data/images\n",
      "Deleting temporary directory data/temp\n"
     ]
    },
    {
     "ename": "PermissionError",
     "evalue": "[WinError 32] The process cannot access the file because it is being used by another process: 'data/temp\\\\DrivFace\\\\DrivImages.zip'",
     "output_type": "error",
     "traceback": [
      "\u001b[1;31m---------------------------------------------------------------------------\u001b[0m",
      "\u001b[1;31mPermissionError\u001b[0m                           Traceback (most recent call last)",
      "Cell \u001b[1;32mIn[5], line 1\u001b[0m\n\u001b[1;32m----> 1\u001b[0m \u001b[43mload_dataset\u001b[49m\u001b[43m(\u001b[49m\u001b[43m)\u001b[49m\n",
      "Cell \u001b[1;32mIn[4], line 20\u001b[0m, in \u001b[0;36mload_dataset\u001b[1;34m()\u001b[0m\n\u001b[0;32m     18\u001b[0m shutil\u001b[38;5;241m.\u001b[39mmove(temp_dir\u001b[38;5;241m+\u001b[39m\u001b[38;5;124m'\u001b[39m\u001b[38;5;124m/DrivFace/drivPoints.txt\u001b[39m\u001b[38;5;124m'\u001b[39m,orig_dir\u001b[38;5;241m+\u001b[39m\u001b[38;5;124m'\u001b[39m\u001b[38;5;124m/drivPoints.txt\u001b[39m\u001b[38;5;124m'\u001b[39m)\n\u001b[0;32m     19\u001b[0m \u001b[38;5;28mprint\u001b[39m(\u001b[38;5;124m\"\u001b[39m\u001b[38;5;124mDeleting temporary directory \u001b[39m\u001b[38;5;124m\"\u001b[39m\u001b[38;5;241m+\u001b[39m temp_dir)\n\u001b[1;32m---> 20\u001b[0m \u001b[43mshutil\u001b[49m\u001b[38;5;241;43m.\u001b[39;49m\u001b[43mrmtree\u001b[49m\u001b[43m(\u001b[49m\u001b[43mtemp_dir\u001b[49m\u001b[43m)\u001b[49m\n",
      "File \u001b[1;32mc:\\Users\\selloh\\.conda\\envs\\tf-cpu\\lib\\shutil.py:759\u001b[0m, in \u001b[0;36mrmtree\u001b[1;34m(path, ignore_errors, onerror)\u001b[0m\n\u001b[0;32m    757\u001b[0m     \u001b[38;5;66;03m# can't continue even if onerror hook returns\u001b[39;00m\n\u001b[0;32m    758\u001b[0m     \u001b[38;5;28;01mreturn\u001b[39;00m\n\u001b[1;32m--> 759\u001b[0m \u001b[38;5;28;01mreturn\u001b[39;00m \u001b[43m_rmtree_unsafe\u001b[49m\u001b[43m(\u001b[49m\u001b[43mpath\u001b[49m\u001b[43m,\u001b[49m\u001b[43m \u001b[49m\u001b[43monerror\u001b[49m\u001b[43m)\u001b[49m\n",
      "File \u001b[1;32mc:\\Users\\selloh\\.conda\\envs\\tf-cpu\\lib\\shutil.py:624\u001b[0m, in \u001b[0;36m_rmtree_unsafe\u001b[1;34m(path, onerror)\u001b[0m\n\u001b[0;32m    622\u001b[0m         onerror(os\u001b[38;5;241m.\u001b[39mpath\u001b[38;5;241m.\u001b[39mislink, fullname, sys\u001b[38;5;241m.\u001b[39mexc_info())\n\u001b[0;32m    623\u001b[0m         \u001b[38;5;28;01mcontinue\u001b[39;00m\n\u001b[1;32m--> 624\u001b[0m     \u001b[43m_rmtree_unsafe\u001b[49m\u001b[43m(\u001b[49m\u001b[43mfullname\u001b[49m\u001b[43m,\u001b[49m\u001b[43m \u001b[49m\u001b[43monerror\u001b[49m\u001b[43m)\u001b[49m\n\u001b[0;32m    625\u001b[0m \u001b[38;5;28;01melse\u001b[39;00m:\n\u001b[0;32m    626\u001b[0m     \u001b[38;5;28;01mtry\u001b[39;00m:\n",
      "File \u001b[1;32mc:\\Users\\selloh\\.conda\\envs\\tf-cpu\\lib\\shutil.py:629\u001b[0m, in \u001b[0;36m_rmtree_unsafe\u001b[1;34m(path, onerror)\u001b[0m\n\u001b[0;32m    627\u001b[0m             os\u001b[38;5;241m.\u001b[39munlink(fullname)\n\u001b[0;32m    628\u001b[0m         \u001b[38;5;28;01mexcept\u001b[39;00m \u001b[38;5;167;01mOSError\u001b[39;00m:\n\u001b[1;32m--> 629\u001b[0m             \u001b[43monerror\u001b[49m\u001b[43m(\u001b[49m\u001b[43mos\u001b[49m\u001b[38;5;241;43m.\u001b[39;49m\u001b[43munlink\u001b[49m\u001b[43m,\u001b[49m\u001b[43m \u001b[49m\u001b[43mfullname\u001b[49m\u001b[43m,\u001b[49m\u001b[43m \u001b[49m\u001b[43msys\u001b[49m\u001b[38;5;241;43m.\u001b[39;49m\u001b[43mexc_info\u001b[49m\u001b[43m(\u001b[49m\u001b[43m)\u001b[49m\u001b[43m)\u001b[49m\n\u001b[0;32m    630\u001b[0m \u001b[38;5;28;01mtry\u001b[39;00m:\n\u001b[0;32m    631\u001b[0m     os\u001b[38;5;241m.\u001b[39mrmdir(path)\n",
      "File \u001b[1;32mc:\\Users\\selloh\\.conda\\envs\\tf-cpu\\lib\\shutil.py:627\u001b[0m, in \u001b[0;36m_rmtree_unsafe\u001b[1;34m(path, onerror)\u001b[0m\n\u001b[0;32m    625\u001b[0m \u001b[38;5;28;01melse\u001b[39;00m:\n\u001b[0;32m    626\u001b[0m     \u001b[38;5;28;01mtry\u001b[39;00m:\n\u001b[1;32m--> 627\u001b[0m         \u001b[43mos\u001b[49m\u001b[38;5;241;43m.\u001b[39;49m\u001b[43munlink\u001b[49m\u001b[43m(\u001b[49m\u001b[43mfullname\u001b[49m\u001b[43m)\u001b[49m\n\u001b[0;32m    628\u001b[0m     \u001b[38;5;28;01mexcept\u001b[39;00m \u001b[38;5;167;01mOSError\u001b[39;00m:\n\u001b[0;32m    629\u001b[0m         onerror(os\u001b[38;5;241m.\u001b[39munlink, fullname, sys\u001b[38;5;241m.\u001b[39mexc_info())\n",
      "\u001b[1;31mPermissionError\u001b[0m: [WinError 32] The process cannot access the file because it is being used by another process: 'data/temp\\\\DrivFace\\\\DrivImages.zip'"
     ]
    }
   ],
   "source": [
    "load_dataset()"
   ]
  },
  {
   "cell_type": "code",
   "execution_count": 18,
   "metadata": {},
   "outputs": [
    {
     "name": "stdout",
     "output_type": "stream",
     "text": [
      "['20130529_01_Driv_001_f ', '20130529_01_Driv_002_f ', '20130529_01_Driv_003_f ', '20130529_01_Driv_004_f ', '20130529_01_Driv_005_f ', '20130529_01_Driv_006_f ', '20130529_01_Driv_007_f ', '20130529_01_Driv_008_f ', '20130529_01_Driv_009_f ', '20130529_01_Driv_010_f ', '20130529_01_Driv_011_f ', '20130529_01_Driv_012_f ', '20130529_01_Driv_013_f ', '20130529_01_Driv_014_f ', '20130529_01_Driv_015_f ', '20130529_01_Driv_016_f ', '20130529_01_Driv_017_f ', '20130529_01_Driv_018_f ', '20130529_01_Driv_019_f ', '20130529_01_Driv_020_f ', '20130529_01_Driv_021_f ', '20130529_01_Driv_022_f ', '20130529_01_Driv_023_f ', '20130529_01_Driv_024_f ', '20130529_01_Driv_025_f ', '20130529_01_Driv_033_f ', '20130529_01_Driv_034_f ', '20130529_01_Driv_035_f ', '20130529_01_Driv_036_f ', '20130529_01_Driv_037_f ', '20130529_01_Driv_038_f ', '20130529_01_Driv_039_f ', '20130529_01_Driv_040_f ', '20130529_01_Driv_041_f ', '20130529_01_Driv_042_f ', '20130529_01_Driv_043_f ', '20130529_01_Driv_044_f ', '20130529_01_Driv_045_f ', '20130529_01_Driv_046_f ', '20130529_01_Driv_047_f ', '20130529_01_Driv_048_f ', '20130529_01_Driv_049_f ', '20130529_01_Driv_050_f ', '20130529_01_Driv_051_f ', '20130529_01_Driv_052_f ', '20130529_01_Driv_053_f ', '20130529_01_Driv_054_f ', '20130529_01_Driv_055_f ', '20130529_01_Driv_056_f ', '20130529_01_Driv_057_f ', '20130529_01_Driv_058_f ', '20130529_01_Driv_059_f ', '20130529_01_Driv_060_f ', '20130529_01_Driv_061_f ', '20130529_01_Driv_062_f ', '20130529_01_Driv_063_f ', '20130529_01_Driv_064_f ', '20130529_01_Driv_065_f ', '20130529_01_Driv_066_f ', '20130529_01_Driv_067_f ', '20130529_01_Driv_068_f ', '20130529_01_Driv_069_f ', '20130529_01_Driv_070_f ', '20130529_01_Driv_071_f ', '20130529_01_Driv_072_f ', '20130529_01_Driv_073_f ', '20130529_01_Driv_074_f ', '20130529_01_Driv_075_f ', '20130529_01_Driv_076_f ', '20130529_01_Driv_077_f ', '20130529_01_Driv_078_f ', '20130529_01_Driv_079_f ', '20130529_01_Driv_080_f ', '20130529_01_Driv_081_f ', '20130529_01_Driv_082_f ', '20130529_01_Driv_083_f ', '20130529_01_Driv_084_f ', '20130529_01_Driv_085_f ', '20130529_01_Driv_086_f ', '20130529_01_Driv_087_f ', '20130529_01_Driv_088_f ', '20130529_01_Driv_089_f ', '20130529_01_Driv_090_f ', '20130529_01_Driv_091_f ', '20130529_01_Driv_092_f ', '20130529_01_Driv_093_f ', '20130529_01_Driv_094_f ', '20130529_01_Driv_095_f ', '20130529_01_Driv_096_f ', '20130529_01_Driv_097_f ', '20130529_01_Driv_098_f ', '20130529_01_Driv_099_f ', '20130529_01_Driv_100_f ', '20130529_01_Driv_101_f ', '20130529_01_Driv_102_f ', '20130529_01_Driv_103_f ', '20130529_01_Driv_104_f ', '20130529_01_Driv_105_f ', '20130529_01_Driv_106_f ', '20130529_01_Driv_107_f ', '20130529_01_Driv_108_f ', '20130529_01_Driv_109_f ', '20130529_01_Driv_110_f ', '20130529_01_Driv_111_f ', '20130529_01_Driv_112_f ', '20130529_01_Driv_113_f ', '20130529_01_Driv_114_f ', '20130529_01_Driv_115_f ', '20130529_01_Driv_116_f ', '20130529_01_Driv_117_f ', '20130529_01_Driv_118_f ', '20130529_01_Driv_119_f ', '20130529_01_Driv_120_f ', '20130529_01_Driv_121_f ', '20130529_01_Driv_122_f ', '20130529_01_Driv_123_f ', '20130529_01_Driv_124_f ', '20130529_01_Driv_125_f ', '20130529_01_Driv_126_f ', '20130529_01_Driv_127_f ', '20130529_01_Driv_128_f ', '20130529_01_Driv_129_f ', '20130529_01_Driv_130_f ', '20130529_01_Driv_131_f ', '20130529_01_Driv_132_f ', '20130529_01_Driv_133_f ', '20130529_01_Driv_134_f ', '20130529_01_Driv_135_f ', '20130529_01_Driv_136_f ', '20130529_01_Driv_137_f ', '20130529_01_Driv_138_f ', '20130529_01_Driv_139_f ', '20130529_01_Driv_140_f ', '20130529_01_Driv_141_f ', '20130529_01_Driv_142_f ', '20130529_01_Driv_143_f ', '20130529_01_Driv_144_f ', '20130529_01_Driv_145_f ', '20130529_01_Driv_146_f ', '20130529_01_Driv_147_f ', '20130529_01_Driv_148_f ', '20130529_01_Driv_149_f ', '20130529_01_Driv_150_f ', '20130529_01_Driv_151_f ', '20130529_01_Driv_152_f ', '20130529_01_Driv_153_f ', '20130529_01_Driv_154_f ', '20130529_01_Driv_155_f ', '20130529_01_Driv_156_f ', '20130529_01_Driv_157_f ', '20130529_01_Driv_158_f ', '20130529_01_Driv_159_f ', '20130529_01_Driv_160_f ', '20130529_01_Driv_161_f ', '20130529_01_Driv_162_f ', '20130529_01_Driv_163_f ', '20130529_01_Driv_164_f ', '20130529_01_Driv_165_f ', '20130529_01_Driv_166_f ', '20130529_01_Driv_167_f ', '20130529_02_Driv_001_f ', '20130529_02_Driv_002_f ', '20130529_02_Driv_003_f ', '20130529_02_Driv_004_f ', '20130529_02_Driv_005_f ', '20130529_02_Driv_006_f ', '20130529_02_Driv_007_f ', '20130529_02_Driv_008_f ', '20130529_02_Driv_009_f ', '20130529_02_Driv_010_f ', '20130529_02_Driv_011_f ', '20130529_02_Driv_012_f ', '20130529_02_Driv_013_f ', '20130529_02_Driv_014_f ', '20130529_02_Driv_015_f ', '20130529_02_Driv_016_f ', '20130529_02_Driv_017_f ', '20130529_02_Driv_018_f ', '20130529_02_Driv_019_f ', '20130529_02_Driv_020_f ', '20130529_02_Driv_021_f ', '20130529_02_Driv_022_f ', '20130529_02_Driv_023_f ', '20130529_02_Driv_024_f ', '20130529_02_Driv_025_f ', '20130529_02_Driv_026_f ', '20130529_02_Driv_027_f ', '20130529_02_Driv_028_f ', '20130529_02_Driv_029_f ', '20130529_02_Driv_030_f ', '20130529_02_Driv_031_f ', '20130529_02_Driv_032_f ', '20130529_02_Driv_033_f ', '20130529_02_Driv_034_f ', '20130529_02_Driv_035_f ', '20130529_02_Driv_036_f ', '20130529_02_Driv_037_f ', '20130529_02_Driv_038_f ', '20130529_02_Driv_039_f ', '20130529_02_Driv_040_f ', '20130529_02_Driv_041_f ', '20130529_02_Driv_042_f ', '20130529_02_Driv_043_f ', '20130529_02_Driv_044_f ', '20130529_02_Driv_045_f ', '20130529_02_Driv_046_f ', '20130529_02_Driv_047_f ', '20130529_02_Driv_048_f ', '20130529_02_Driv_049_f ', '20130529_02_Driv_050_f ', '20130529_02_Driv_051_f ', '20130529_02_Driv_052_f ', '20130529_02_Driv_053_f ', '20130529_02_Driv_054_f ', '20130529_02_Driv_055_f ', '20130529_02_Driv_056_f ', '20130529_02_Driv_057_f ', '20130529_02_Driv_058_f ', '20130529_02_Driv_059_f ', '20130529_02_Driv_060_f ', '20130529_02_Driv_061_f ', '20130529_02_Driv_062_f ', '20130529_02_Driv_063_f ', '20130529_02_Driv_064_f ', '20130529_02_Driv_065_f ', '20130529_02_Driv_066_f ', '20130529_02_Driv_068_f ', '20130529_02_Driv_069_f ', '20130529_02_Driv_070_f ', '20130529_02_Driv_071_f ', '20130529_02_Driv_072_f ', '20130529_02_Driv_073_f ', '20130529_02_Driv_074_f ', '20130529_02_Driv_075_f ', '20130529_02_Driv_076_f ', '20130529_02_Driv_077_f ', '20130529_02_Driv_078_f ', '20130529_02_Driv_079_f ', '20130529_02_Driv_080_f ', '20130529_02_Driv_081_f ', '20130529_02_Driv_082_f ', '20130529_02_Driv_083_f ', '20130529_02_Driv_084_f ', '20130529_02_Driv_085_f ', '20130529_02_Driv_086_f ', '20130529_02_Driv_087_f ', '20130529_02_Driv_088_f ', '20130529_02_Driv_089_f ', '20130529_02_Driv_090_f ', '20130529_02_Driv_091_f ', '20130529_02_Driv_092_f ', '20130529_02_Driv_093_f ', '20130529_02_Driv_094_f ', '20130529_02_Driv_095_f ', '20130529_02_Driv_096_f ', '20130529_02_Driv_097_f ', '20130529_02_Driv_098_f ', '20130529_02_Driv_099_f ', '20130529_02_Driv_100_f ', '20130529_02_Driv_101_f ', '20130529_02_Driv_102_f ', '20130529_02_Driv_103_f ', '20130529_02_Driv_104_f ', '20130529_02_Driv_105_f ', '20130529_02_Driv_106_f ', '20130529_02_Driv_107_f ', '20130529_02_Driv_108_f ', '20130529_02_Driv_109_f ', '20130529_02_Driv_110_f ', '20130529_02_Driv_111_f ', '20130529_02_Driv_112_f ', '20130529_02_Driv_113_f ', '20130529_02_Driv_119_f ', '20130529_02_Driv_120_f ', '20130529_02_Driv_121_f ', '20130529_02_Driv_122_f ', '20130529_02_Driv_127_f ', '20130529_02_Driv_128_f ', '20130529_02_Driv_129_f ', '20130529_02_Driv_130_f ', '20130529_02_Driv_131_f ', '20130529_02_Driv_132_f ', '20130529_02_Driv_133_f ', '20130529_02_Driv_134_f ', '20130529_02_Driv_135_f ', '20130529_02_Driv_136_f ', '20130529_02_Driv_151_f ', '20130529_02_Driv_152_f ', '20130529_02_Driv_153_f ', '20130529_02_Driv_154_f ', '20130529_02_Driv_155_f ', '20130529_02_Driv_156_f ', '20130529_02_Driv_157_f ', '20130529_02_Driv_158_f ', '20130529_02_Driv_159_f ', '20130529_02_Driv_160_f ', '20130529_02_Driv_161_f ', '20130529_02_Driv_162_f ', '20130529_02_Driv_163_f ', '20130529_02_Driv_164_f ', '20130529_02_Driv_165_f ', '20130529_02_Driv_166_f ', '20130529_02_Driv_167_f ', '20130529_02_Driv_168_f ', '20130529_02_Driv_169_f ', '20130529_02_Driv_170_f ', '20130530_03_Driv_001_f ', '20130530_03_Driv_002_f ', '20130530_03_Driv_003_f ', '20130530_03_Driv_004_f ', '20130530_03_Driv_005_f ', '20130530_03_Driv_006_f ', '20130530_03_Driv_007_f ', '20130530_03_Driv_008_f ', '20130530_03_Driv_009_f ', '20130530_03_Driv_010_f ', '20130530_03_Driv_011_f ', '20130530_03_Driv_012_f ', '20130530_03_Driv_013_f ', '20130530_03_Driv_014_f ', '20130530_03_Driv_015_f ', '20130530_03_Driv_016_f ', '20130530_03_Driv_017_f ', '20130530_03_Driv_018_f ', '20130530_03_Driv_019_f ', '20130530_03_Driv_020_f ', '20130530_03_Driv_021_f ', '20130530_03_Driv_022_f ', '20130530_03_Driv_023_f ', '20130530_03_Driv_024_f ', '20130530_03_Driv_025_f ', '20130530_03_Driv_026_f ', '20130530_03_Driv_027_f ', '20130530_03_Driv_028_f ', '20130530_03_Driv_029_f ', '20130530_03_Driv_030_f ', '20130530_03_Driv_031_f ', '20130530_03_Driv_032_f ', '20130530_03_Driv_033_f ', '20130530_03_Driv_034_f ', '20130530_03_Driv_035_f ', '20130530_03_Driv_036_f ', '20130530_03_Driv_037_f ', '20130530_03_Driv_038_f ', '20130530_03_Driv_042_f ', '20130530_03_Driv_043_f ', '20130530_03_Driv_044_f ', '20130530_03_Driv_045_f ', '20130530_03_Driv_046_f ', '20130530_03_Driv_047_f ', '20130530_03_Driv_048_f ', '20130530_03_Driv_049_f ', '20130530_03_Driv_050_f ', '20130530_03_Driv_051_f ', '20130530_03_Driv_052_f ', '20130530_03_Driv_053_f ', '20130530_03_Driv_054_f ', '20130530_03_Driv_055_f ', '20130530_03_Driv_056_f ', '20130530_03_Driv_057_f ', '20130530_03_Driv_058_f ', '20130530_03_Driv_059_f ', '20130530_03_Driv_060_f ', '20130530_03_Driv_061_f ', '20130530_03_Driv_062_f ', '20130530_03_Driv_063_f ', '20130530_03_Driv_064_f ', '20130530_03_Driv_065_f ', '20130530_03_Driv_066_f ', '20130530_03_Driv_067_f ', '20130530_03_Driv_068_f ', '20130530_03_Driv_069_f ', '20130530_03_Driv_070_f ', '20130530_03_Driv_071_f ', '20130530_03_Driv_072_f ', '20130530_03_Driv_073_f ', '20130530_03_Driv_074_f ', '20130530_03_Driv_075_f ', '20130530_03_Driv_076_f ', '20130530_03_Driv_077_f ', '20130530_03_Driv_078_f ', '20130530_03_Driv_079_f ', '20130530_03_Driv_080_f ', '20130530_03_Driv_081_f ', '20130530_03_Driv_082_f ', '20130530_03_Driv_083_f ', '20130530_03_Driv_084_f ', '20130530_03_Driv_085_f ', '20130530_03_Driv_086_f ', '20130530_03_Driv_087_f ', '20130530_03_Driv_088_f ', '20130530_03_Driv_089_f ', '20130530_03_Driv_090_f ', '20130530_03_Driv_091_f ', '20130530_03_Driv_092_f ', '20130530_03_Driv_093_f ', '20130530_03_Driv_094_f ', '20130530_03_Driv_095_f ', '20130530_03_Driv_096_f ', '20130530_03_Driv_097_f ', '20130530_03_Driv_098_f ', '20130530_03_Driv_099_f ', '20130530_03_Driv_100_f ', '20130530_03_Driv_101_f ', '20130530_03_Driv_102_f ', '20130530_03_Driv_103_f ', '20130530_03_Driv_104_f ', '20130530_03_Driv_105_f ', '20130530_03_Driv_106_f ', '20130530_03_Driv_107_f ', '20130530_03_Driv_108_f ', '20130530_03_Driv_109_f ', '20130530_03_Driv_110_f ', '20130530_03_Driv_111_f ', '20130530_03_Driv_112_f ', '20130530_03_Driv_113_f ', '20130530_03_Driv_114_f ', '20130530_03_Driv_115_f ', '20130530_03_Driv_116_f ', '20130530_03_Driv_117_f ', '20130530_03_Driv_118_f ', '20130530_03_Driv_119_f ', '20130530_03_Driv_120_f ', '20130530_03_Driv_121_f ', '20130530_03_Driv_122_f ', '20130530_03_Driv_123_f ', '20130530_03_Driv_124_f ', '20130530_03_Driv_125_f ', '20130530_03_Driv_126_f ', '20130530_03_Driv_127_f ', '20130530_03_Driv_128_f ', '20130530_03_Driv_129_f ', '20130530_03_Driv_130_f ', '20130530_03_Driv_131_f ', '20130530_03_Driv_132_f ', '20130530_03_Driv_133_f ', '20130530_03_Driv_134_f ', '20130530_03_Driv_135_f ', '20130530_03_Driv_136_f ', '20130530_03_Driv_137_f ', '20130530_03_Driv_138_f ', '20130530_03_Driv_139_f ', '20130530_03_Driv_140_f ', '20130530_03_Driv_141_f ', '20130530_03_Driv_142_f ', '20130530_03_Driv_143_f ', '20130530_03_Driv_144_f ', '20130530_03_Driv_145_f ', '20130530_03_Driv_146_f ', '20130530_03_Driv_147_f ', '20130530_03_Driv_148_f ', '20130530_03_Driv_149_f ', '20130530_03_Driv_150_f ', '20130530_03_Driv_151_f ', '20130530_03_Driv_152_f ', '20130530_03_Driv_153_f ', '20130530_03_Driv_154_f ', '20130530_03_Driv_155_f ', '20130530_03_Driv_156_f ', '20130530_03_Driv_157_f ', '20130530_03_Driv_158_f ', '20130530_03_Driv_159_f ', '20130530_03_Driv_160_f ', '20130530_03_Driv_161_f ', '20130530_03_Driv_162_f ', '20130530_03_Driv_163_f ', '20130530_03_Driv_164_f ', '20130530_03_Driv_165_f ', '20130530_03_Driv_166_f ', '20130530_03_Driv_167_f ', '20130530_04_Driv_001_f ', '20130530_04_Driv_002_f ', '20130530_04_Driv_003_f ', '20130530_04_Driv_004_f ', '20130530_04_Driv_005_f ', '20130530_04_Driv_007_f ', '20130530_04_Driv_008_f ', '20130530_04_Driv_009_f ', '20130530_04_Driv_019_f ', '20130530_04_Driv_020_f ', '20130530_04_Driv_021_f ', '20130530_04_Driv_022_f ', '20130530_04_Driv_023_f ', '20130530_04_Driv_024_f ', '20130530_04_Driv_025_f ', '20130530_04_Driv_026_f ', '20130530_04_Driv_027_f ', '20130530_04_Driv_028_f ', '20130530_04_Driv_029_f ', '20130530_04_Driv_030_f ', '20130530_04_Driv_031_f ', '20130530_04_Driv_032_f ', '20130530_04_Driv_033_f ', '20130530_04_Driv_034_f ', '20130530_04_Driv_035_f ', '20130530_04_Driv_036_f ', '20130530_04_Driv_037_f ', '20130530_04_Driv_038_f ', '20130530_04_Driv_039_f ', '20130530_04_Driv_040_f ', '20130530_04_Driv_041_f ', '20130530_04_Driv_042_f ', '20130530_04_Driv_043_f ', '20130530_04_Driv_044_f ', '20130530_04_Driv_045_f ', '20130530_04_Driv_046_f ', '20130530_04_Driv_047_f ', '20130530_04_Driv_048_f ', '20130530_04_Driv_049_f ', '20130530_04_Driv_050_f ', '20130530_04_Driv_051_f ', '20130530_04_Driv_052_f ', '20130530_04_Driv_053_f ', '20130530_04_Driv_054_f ', '20130530_04_Driv_055_f ', '20130530_04_Driv_058_f ', '20130530_04_Driv_059_f ', '20130530_04_Driv_060_f ', '20130530_04_Driv_061_f ', '20130530_04_Driv_062_f ', '20130530_04_Driv_063_f ', '20130530_04_Driv_064_f ', '20130530_04_Driv_065_f ', '20130530_04_Driv_066_f ', '20130530_04_Driv_067_f ', '20130530_04_Driv_068_f ', '20130530_04_Driv_069_f ', '20130530_04_Driv_070_f ', '20130530_04_Driv_071_f ', '20130530_04_Driv_072_f ', '20130530_04_Driv_073_f ', '20130530_04_Driv_074_f ', '20130530_04_Driv_075_f ', '20130530_04_Driv_076_f ', '20130530_04_Driv_077_f ', '20130530_04_Driv_078_f ', '20130530_04_Driv_079_f ', '20130530_04_Driv_080_f ', '20130530_04_Driv_081_f ', '20130530_04_Driv_082_f ', '20130530_04_Driv_083_f ', '20130530_04_Driv_084_f ', '20130530_04_Driv_085_f ', '20130530_04_Driv_086_f ', '20130530_04_Driv_089_f ', '20130530_04_Driv_090_f ']\n"
     ]
    }
   ],
   "source": [
    "def split_dataset(orig_dir, train_dir, val_dir, split_ratio):\n",
    "  \n",
    "  if not os.path.exists(train_dir):\n",
    "    os.makedirs(train_dir)\n",
    "    os.makedirs(val_dir)\n",
    "    print(\"Creating train directories for each class\")\n",
    "    train_ff_dir = os.path.join(train_dir, 'ff')\n",
    "    pritn(train_ff_dir)\n",
    "    os.makedirs(train_ff_dir)\n",
    "    train_ll_dir = os.path.join(train_dir, 'll')\n",
    "    os.makedirs(train_ll_dir)\n",
    "    train_lr_dir = os.path.join(train_dir, 'lr')\n",
    "    os.makedirs(train_lr_dir)\n",
    "\n",
    "    print(\"Creating val directories for each class\")\n",
    "    val_ff_dir = os.path.join(val_dir, 'ff')\n",
    "    os.makedirs(val_ff_dir)\n",
    "    val_ll_dir = os.path.join(val_dir, 'll')\n",
    "    os.makedirs(val_ll_dir)\n",
    "    val_lr_dir = os.path.join(val_dir, 'lr')\n",
    "    os.makedirs(val_lr_dir)\n",
    "\n",
    "  train_ff_dir = os.path.join(train_dir, 'ff')\n",
    "  train_ll_dir = os.path.join(train_dir, 'll')\n",
    "  train_lr_dir = os.path.join(train_dir, 'lr')\n",
    "  val_ff_dir = os.path.join(val_dir, 'ff')\n",
    "  val_ll_dir = os.path.join(val_dir, 'll')\n",
    "  val_lr_dir = os.path.join(val_dir, 'lr')\n",
    "\n",
    "  files = pd.read_csv(orig_dir+'/drivPoints.txt')['fileName'].tolist()\n",
    "\n",
    "\n",
    "  files_ff = [file for file in files if 'f' in file]\n",
    "  files_ll = [file for file in files if 'll' in file]\n",
    "  files_lr = [file for file in files if 'lr' in file]\n",
    "\n",
    "\n",
    "  print(files_ff)\n",
    "  i = 0\n",
    "  for fname in files_ff:\n",
    "    src = os.path.join(orig_dir, fname + '.jpg')   \n",
    "    dst_train = os.path.join(train_ff_dir, fname + '.jpg')\n",
    "    dst_val = os.path.join(val_ff_dir, fname + '.jpg')\n",
    "    i += 1\n",
    "    if i < len(files_ff)*split_ratio:\n",
    "      shutil.move(src, dst_train)\n",
    "    else:\n",
    "      shutil.move(src, dst_val)\n",
    "  i = 0\n",
    "  for fname in files_ll:\n",
    "    src = os.path.join(orig_dir, fname + '.jpg')                        \n",
    "    dst_train = os.path.join(train_ll_dir, fname + '.jpg')\n",
    "    dst_val = os.path.join(val_ll_dir, fname + '.jpg')\n",
    "    i += 1\n",
    "    if i < len(files_ll)*split_ratio:\n",
    "      shutil.move(src, dst_train)\n",
    "    else:\n",
    "      shutil.move(src, dst_val)\n",
    "  i = 0\n",
    "  for fname in files_lr:\n",
    "    src = os.path.join(orig_dir, fname + '.jpg')                        \n",
    "    dst_train = os.path.join(train_lr_dir, fname + '.jpg') \n",
    "    dst_val = os.path.join(val_lr_dir, fname + '.jpg')\n",
    "    i += 1\n",
    "    if i < len(files_lr)*split_ratio:\n",
    "      shutil.move(src, dst_train)\n",
    "    else:\n",
    "      shutil.move(src, dst_val)\n",
    "     \n"
   ]
  },
  {
   "cell_type": "code",
   "execution_count": 9,
   "metadata": {},
   "outputs": [],
   "source": [
    "split_dataset(orig_dir, train_dir, val_dir, split_ratio = 0.8)\n"
   ]
  },
  {
   "cell_type": "code",
   "execution_count": 19,
   "metadata": {},
   "outputs": [],
   "source": [
    "from keras import layers\n",
    "from keras import models\n"
   ]
  },
  {
   "cell_type": "code",
   "execution_count": 20,
   "metadata": {},
   "outputs": [],
   "source": [
    "from keras.applications import ResNet50\n",
    "conv_base = ResNet50(weights='imagenet', \n",
    "                     include_top=False,\n",
    "                     input_shape=(SHAPE)\n",
    "                     )"
   ]
  },
  {
   "cell_type": "code",
   "execution_count": 21,
   "metadata": {},
   "outputs": [
    {
     "data": {
      "text/html": [
       "<pre style=\"white-space:pre;overflow-x:auto;line-height:normal;font-family:Menlo,'DejaVu Sans Mono',consolas,'Courier New',monospace\"><span style=\"font-weight: bold\">Model: \"sequential\"</span>\n",
       "</pre>\n"
      ],
      "text/plain": [
       "\u001b[1mModel: \"sequential\"\u001b[0m\n"
      ]
     },
     "metadata": {},
     "output_type": "display_data"
    },
    {
     "data": {
      "text/html": [
       "<pre style=\"white-space:pre;overflow-x:auto;line-height:normal;font-family:Menlo,'DejaVu Sans Mono',consolas,'Courier New',monospace\">┏━━━━━━━━━━━━━━━━━━━━━━━━━━━━━━━━━┳━━━━━━━━━━━━━━━━━━━━━━━━┳━━━━━━━━━━━━━━━┓\n",
       "┃<span style=\"font-weight: bold\"> Layer (type)                    </span>┃<span style=\"font-weight: bold\"> Output Shape           </span>┃<span style=\"font-weight: bold\">       Param # </span>┃\n",
       "┡━━━━━━━━━━━━━━━━━━━━━━━━━━━━━━━━━╇━━━━━━━━━━━━━━━━━━━━━━━━╇━━━━━━━━━━━━━━━┩\n",
       "│ resnet50 (<span style=\"color: #0087ff; text-decoration-color: #0087ff\">Functional</span>)           │ ?                      │    <span style=\"color: #00af00; text-decoration-color: #00af00\">23,587,712</span> │\n",
       "├─────────────────────────────────┼────────────────────────┼───────────────┤\n",
       "│ flatten (<span style=\"color: #0087ff; text-decoration-color: #0087ff\">Flatten</span>)               │ ?                      │   <span style=\"color: #00af00; text-decoration-color: #00af00\">0</span> (unbuilt) │\n",
       "├─────────────────────────────────┼────────────────────────┼───────────────┤\n",
       "│ dense (<span style=\"color: #0087ff; text-decoration-color: #0087ff\">Dense</span>)                   │ ?                      │   <span style=\"color: #00af00; text-decoration-color: #00af00\">0</span> (unbuilt) │\n",
       "├─────────────────────────────────┼────────────────────────┼───────────────┤\n",
       "│ dense_1 (<span style=\"color: #0087ff; text-decoration-color: #0087ff\">Dense</span>)                 │ ?                      │   <span style=\"color: #00af00; text-decoration-color: #00af00\">0</span> (unbuilt) │\n",
       "└─────────────────────────────────┴────────────────────────┴───────────────┘\n",
       "</pre>\n"
      ],
      "text/plain": [
       "┏━━━━━━━━━━━━━━━━━━━━━━━━━━━━━━━━━┳━━━━━━━━━━━━━━━━━━━━━━━━┳━━━━━━━━━━━━━━━┓\n",
       "┃\u001b[1m \u001b[0m\u001b[1mLayer (type)                   \u001b[0m\u001b[1m \u001b[0m┃\u001b[1m \u001b[0m\u001b[1mOutput Shape          \u001b[0m\u001b[1m \u001b[0m┃\u001b[1m \u001b[0m\u001b[1m      Param #\u001b[0m\u001b[1m \u001b[0m┃\n",
       "┡━━━━━━━━━━━━━━━━━━━━━━━━━━━━━━━━━╇━━━━━━━━━━━━━━━━━━━━━━━━╇━━━━━━━━━━━━━━━┩\n",
       "│ resnet50 (\u001b[38;5;33mFunctional\u001b[0m)           │ ?                      │    \u001b[38;5;34m23,587,712\u001b[0m │\n",
       "├─────────────────────────────────┼────────────────────────┼───────────────┤\n",
       "│ flatten (\u001b[38;5;33mFlatten\u001b[0m)               │ ?                      │   \u001b[38;5;34m0\u001b[0m (unbuilt) │\n",
       "├─────────────────────────────────┼────────────────────────┼───────────────┤\n",
       "│ dense (\u001b[38;5;33mDense\u001b[0m)                   │ ?                      │   \u001b[38;5;34m0\u001b[0m (unbuilt) │\n",
       "├─────────────────────────────────┼────────────────────────┼───────────────┤\n",
       "│ dense_1 (\u001b[38;5;33mDense\u001b[0m)                 │ ?                      │   \u001b[38;5;34m0\u001b[0m (unbuilt) │\n",
       "└─────────────────────────────────┴────────────────────────┴───────────────┘\n"
      ]
     },
     "metadata": {},
     "output_type": "display_data"
    },
    {
     "data": {
      "text/html": [
       "<pre style=\"white-space:pre;overflow-x:auto;line-height:normal;font-family:Menlo,'DejaVu Sans Mono',consolas,'Courier New',monospace\"><span style=\"font-weight: bold\"> Total params: </span><span style=\"color: #00af00; text-decoration-color: #00af00\">23,587,712</span> (89.98 MB)\n",
       "</pre>\n"
      ],
      "text/plain": [
       "\u001b[1m Total params: \u001b[0m\u001b[38;5;34m23,587,712\u001b[0m (89.98 MB)\n"
      ]
     },
     "metadata": {},
     "output_type": "display_data"
    },
    {
     "data": {
      "text/html": [
       "<pre style=\"white-space:pre;overflow-x:auto;line-height:normal;font-family:Menlo,'DejaVu Sans Mono',consolas,'Courier New',monospace\"><span style=\"font-weight: bold\"> Trainable params: </span><span style=\"color: #00af00; text-decoration-color: #00af00\">0</span> (0.00 B)\n",
       "</pre>\n"
      ],
      "text/plain": [
       "\u001b[1m Trainable params: \u001b[0m\u001b[38;5;34m0\u001b[0m (0.00 B)\n"
      ]
     },
     "metadata": {},
     "output_type": "display_data"
    },
    {
     "data": {
      "text/html": [
       "<pre style=\"white-space:pre;overflow-x:auto;line-height:normal;font-family:Menlo,'DejaVu Sans Mono',consolas,'Courier New',monospace\"><span style=\"font-weight: bold\"> Non-trainable params: </span><span style=\"color: #00af00; text-decoration-color: #00af00\">23,587,712</span> (89.98 MB)\n",
       "</pre>\n"
      ],
      "text/plain": [
       "\u001b[1m Non-trainable params: \u001b[0m\u001b[38;5;34m23,587,712\u001b[0m (89.98 MB)\n"
      ]
     },
     "metadata": {},
     "output_type": "display_data"
    }
   ],
   "source": [
    "model = models.Sequential()\n",
    "model.add(conv_base)\n",
    "model.add(layers.Flatten())\n",
    "model.add(layers.Dense(256, activation='relu'))\n",
    "model.add(layers.Dense(3, activation='softmax'))\n",
    "conv_base.trainable = False\n",
    "model.summary()"
   ]
  },
  {
   "cell_type": "code",
   "execution_count": 22,
   "metadata": {},
   "outputs": [],
   "source": [
    "from tensorflow.keras.preprocessing.image import ImageDataGenerator\n",
    "from keras import optimizers\n"
   ]
  },
  {
   "cell_type": "code",
   "execution_count": 23,
   "metadata": {},
   "outputs": [],
   "source": [
    "train_datagen = ImageDataGenerator(\n",
    "    rescale=1./255,\n",
    "    rotation_range=40,\n",
    "    width_shift_range=0.2,\n",
    "    height_shift_range=0.2,\n",
    "    shear_range=0.2,\n",
    "    zoom_range=0.2,\n",
    "    horizontal_flip=False,\n",
    "    fill_mode='nearest'\n",
    ")"
   ]
  },
  {
   "cell_type": "code",
   "execution_count": 24,
   "metadata": {},
   "outputs": [
    {
     "name": "stdout",
     "output_type": "stream",
     "text": [
      "Found 483 images belonging to 3 classes.\n",
      "Found 123 images belonging to 3 classes.\n"
     ]
    }
   ],
   "source": [
    "test_datagen = ImageDataGenerator(rescale=1./255)\n",
    "\n",
    "train_generator = train_datagen.flow_from_directory(\n",
    "    train_dir,\n",
    "    target_size=(HEIGHT, WIDTH),\n",
    "    batch_size=20,\n",
    "    class_mode='categorical')\n",
    "validation_generator = test_datagen.flow_from_directory(\n",
    "    val_dir,\n",
    "    target_size=(HEIGHT, WIDTH),\n",
    "    batch_size=20,\n",
    "    class_mode='categorical'\n",
    ")\n",
    "\n",
    "model.compile(loss='categorical_crossentropy',\n",
    "             optimizer=optimizers.RMSprop(learning_rate=2e-5),\n",
    "             metrics=['acc'])\n",
    "\n",
    "\n"
   ]
  },
  {
   "cell_type": "code",
   "execution_count": 25,
   "metadata": {},
   "outputs": [
    {
     "name": "stdout",
     "output_type": "stream",
     "text": [
      "Epoch 1/30\n"
     ]
    },
    {
     "name": "stderr",
     "output_type": "stream",
     "text": [
      "c:\\Users\\selloh\\.conda\\envs\\tf-cpu\\lib\\site-packages\\keras\\src\\trainers\\data_adapters\\py_dataset_adapter.py:121: UserWarning: Your `PyDataset` class should call `super().__init__(**kwargs)` in its constructor. `**kwargs` can include `workers`, `use_multiprocessing`, `max_queue_size`. Do not pass these arguments to `fit()`, as they will be ignored.\n",
      "  self._warn_if_super_not_called()\n"
     ]
    },
    {
     "name": "stdout",
     "output_type": "stream",
     "text": [
      "\u001b[1m 25/100\u001b[0m \u001b[32m━━━━━\u001b[0m\u001b[37m━━━━━━━━━━━━━━━\u001b[0m \u001b[1m53s\u001b[0m 715ms/step - acc: 0.7613 - loss: 0.8448"
     ]
    },
    {
     "name": "stderr",
     "output_type": "stream",
     "text": [
      "c:\\Users\\selloh\\.conda\\envs\\tf-cpu\\lib\\contextlib.py:137: UserWarning: Your input ran out of data; interrupting training. Make sure that your dataset or generator can generate at least `steps_per_epoch * epochs` batches. You may need to use the `.repeat()` function when building your dataset.\n",
      "  self.gen.throw(typ, value, traceback)\n"
     ]
    },
    {
     "name": "stdout",
     "output_type": "stream",
     "text": [
      "\u001b[1m100/100\u001b[0m \u001b[32m━━━━━━━━━━━━━━━━━━━━\u001b[0m\u001b[37m\u001b[0m \u001b[1m32s\u001b[0m 231ms/step - acc: 0.8472 - loss: 0.6136 - val_acc: 0.8943 - val_loss: 0.4159\n",
      "Epoch 2/30\n",
      "\u001b[1m100/100\u001b[0m \u001b[32m━━━━━━━━━━━━━━━━━━━━\u001b[0m\u001b[37m\u001b[0m \u001b[1m23s\u001b[0m 211ms/step - acc: 0.8451 - loss: 0.5026 - val_acc: 0.8943 - val_loss: 0.4450\n",
      "Epoch 3/30\n",
      "\u001b[1m100/100\u001b[0m \u001b[32m━━━━━━━━━━━━━━━━━━━━\u001b[0m\u001b[37m\u001b[0m \u001b[1m24s\u001b[0m 225ms/step - acc: 0.8860 - loss: 0.4673 - val_acc: 0.8943 - val_loss: 0.4130\n",
      "Epoch 4/30\n",
      "\u001b[1m100/100\u001b[0m \u001b[32m━━━━━━━━━━━━━━━━━━━━\u001b[0m\u001b[37m\u001b[0m \u001b[1m23s\u001b[0m 215ms/step - acc: 0.9019 - loss: 0.4317 - val_acc: 0.8943 - val_loss: 0.4093\n",
      "Epoch 5/30\n",
      "\u001b[1m100/100\u001b[0m \u001b[32m━━━━━━━━━━━━━━━━━━━━\u001b[0m\u001b[37m\u001b[0m \u001b[1m23s\u001b[0m 209ms/step - acc: 0.8854 - loss: 0.4844 - val_acc: 0.8943 - val_loss: 0.4644\n",
      "Epoch 6/30\n",
      "\u001b[1m100/100\u001b[0m \u001b[32m━━━━━━━━━━━━━━━━━━━━\u001b[0m\u001b[37m\u001b[0m \u001b[1m23s\u001b[0m 208ms/step - acc: 0.9095 - loss: 0.3768 - val_acc: 0.8943 - val_loss: 0.4536\n",
      "Epoch 7/30\n",
      "\u001b[1m100/100\u001b[0m \u001b[32m━━━━━━━━━━━━━━━━━━━━\u001b[0m\u001b[37m\u001b[0m \u001b[1m22s\u001b[0m 205ms/step - acc: 0.8783 - loss: 0.5000 - val_acc: 0.8943 - val_loss: 0.3925\n",
      "Epoch 8/30\n",
      "\u001b[1m100/100\u001b[0m \u001b[32m━━━━━━━━━━━━━━━━━━━━\u001b[0m\u001b[37m\u001b[0m \u001b[1m22s\u001b[0m 207ms/step - acc: 0.9024 - loss: 0.4203 - val_acc: 0.8943 - val_loss: 0.4039\n",
      "Epoch 9/30\n",
      "\u001b[1m100/100\u001b[0m \u001b[32m━━━━━━━━━━━━━━━━━━━━\u001b[0m\u001b[37m\u001b[0m \u001b[1m22s\u001b[0m 204ms/step - acc: 0.9064 - loss: 0.4059 - val_acc: 0.8943 - val_loss: 0.3948\n",
      "Epoch 10/30\n",
      "\u001b[1m100/100\u001b[0m \u001b[32m━━━━━━━━━━━━━━━━━━━━\u001b[0m\u001b[37m\u001b[0m \u001b[1m22s\u001b[0m 200ms/step - acc: 0.8749 - loss: 0.4820 - val_acc: 0.8943 - val_loss: 0.3925\n",
      "Epoch 11/30\n",
      "\u001b[1m100/100\u001b[0m \u001b[32m━━━━━━━━━━━━━━━━━━━━\u001b[0m\u001b[37m\u001b[0m \u001b[1m23s\u001b[0m 211ms/step - acc: 0.8766 - loss: 0.4151 - val_acc: 0.8943 - val_loss: 0.4329\n",
      "Epoch 12/30\n",
      "\u001b[1m100/100\u001b[0m \u001b[32m━━━━━━━━━━━━━━━━━━━━\u001b[0m\u001b[37m\u001b[0m \u001b[1m22s\u001b[0m 203ms/step - acc: 0.9029 - loss: 0.4078 - val_acc: 0.8943 - val_loss: 0.4210\n",
      "Epoch 13/30\n",
      "\u001b[1m100/100\u001b[0m \u001b[32m━━━━━━━━━━━━━━━━━━━━\u001b[0m\u001b[37m\u001b[0m \u001b[1m23s\u001b[0m 213ms/step - acc: 0.8689 - loss: 0.4711 - val_acc: 0.8943 - val_loss: 0.4251\n",
      "Epoch 14/30\n",
      "\u001b[1m100/100\u001b[0m \u001b[32m━━━━━━━━━━━━━━━━━━━━\u001b[0m\u001b[37m\u001b[0m \u001b[1m22s\u001b[0m 203ms/step - acc: 0.9017 - loss: 0.3949 - val_acc: 0.8943 - val_loss: 0.4157\n",
      "Epoch 15/30\n",
      "\u001b[1m100/100\u001b[0m \u001b[32m━━━━━━━━━━━━━━━━━━━━\u001b[0m\u001b[37m\u001b[0m \u001b[1m22s\u001b[0m 201ms/step - acc: 0.9017 - loss: 0.3936 - val_acc: 0.8943 - val_loss: 0.4099\n",
      "Epoch 16/30\n",
      "\u001b[1m100/100\u001b[0m \u001b[32m━━━━━━━━━━━━━━━━━━━━\u001b[0m\u001b[37m\u001b[0m \u001b[1m22s\u001b[0m 202ms/step - acc: 0.8619 - loss: 0.4687 - val_acc: 0.8943 - val_loss: 0.4044\n",
      "Epoch 17/30\n",
      "\u001b[1m100/100\u001b[0m \u001b[32m━━━━━━━━━━━━━━━━━━━━\u001b[0m\u001b[37m\u001b[0m \u001b[1m22s\u001b[0m 204ms/step - acc: 0.9111 - loss: 0.3866 - val_acc: 0.8943 - val_loss: 0.4208\n",
      "Epoch 18/30\n",
      "\u001b[1m100/100\u001b[0m \u001b[32m━━━━━━━━━━━━━━━━━━━━\u001b[0m\u001b[37m\u001b[0m \u001b[1m23s\u001b[0m 215ms/step - acc: 0.8839 - loss: 0.4488 - val_acc: 0.8943 - val_loss: 0.4119\n",
      "Epoch 19/30\n",
      "\u001b[1m100/100\u001b[0m \u001b[32m━━━━━━━━━━━━━━━━━━━━\u001b[0m\u001b[37m\u001b[0m \u001b[1m24s\u001b[0m 217ms/step - acc: 0.8912 - loss: 0.4254 - val_acc: 0.8943 - val_loss: 0.3993\n",
      "Epoch 20/30\n",
      "\u001b[1m100/100\u001b[0m \u001b[32m━━━━━━━━━━━━━━━━━━━━\u001b[0m\u001b[37m\u001b[0m \u001b[1m23s\u001b[0m 216ms/step - acc: 0.8997 - loss: 0.4180 - val_acc: 0.3333 - val_loss: 0.8530\n",
      "Epoch 21/30\n",
      "\u001b[1m100/100\u001b[0m \u001b[32m━━━━━━━━━━━━━━━━━━━━\u001b[0m\u001b[37m\u001b[0m \u001b[1m23s\u001b[0m 209ms/step - acc: 0.8922 - loss: 0.4136 - val_acc: 0.8943 - val_loss: 0.3773\n",
      "Epoch 22/30\n",
      "\u001b[1m100/100\u001b[0m \u001b[32m━━━━━━━━━━━━━━━━━━━━\u001b[0m\u001b[37m\u001b[0m \u001b[1m24s\u001b[0m 220ms/step - acc: 0.9011 - loss: 0.4093 - val_acc: 0.8943 - val_loss: 0.4194\n",
      "Epoch 23/30\n",
      "\u001b[1m100/100\u001b[0m \u001b[32m━━━━━━━━━━━━━━━━━━━━\u001b[0m\u001b[37m\u001b[0m \u001b[1m24s\u001b[0m 222ms/step - acc: 0.8959 - loss: 0.3974 - val_acc: 0.8943 - val_loss: 0.4116\n",
      "Epoch 24/30\n",
      "\u001b[1m100/100\u001b[0m \u001b[32m━━━━━━━━━━━━━━━━━━━━\u001b[0m\u001b[37m\u001b[0m \u001b[1m23s\u001b[0m 209ms/step - acc: 0.8918 - loss: 0.4037 - val_acc: 0.8943 - val_loss: 0.4844\n",
      "Epoch 25/30\n",
      "\u001b[1m100/100\u001b[0m \u001b[32m━━━━━━━━━━━━━━━━━━━━\u001b[0m\u001b[37m\u001b[0m \u001b[1m23s\u001b[0m 216ms/step - acc: 0.8932 - loss: 0.4068 - val_acc: 0.8943 - val_loss: 0.3795\n",
      "Epoch 26/30\n",
      "\u001b[1m100/100\u001b[0m \u001b[32m━━━━━━━━━━━━━━━━━━━━\u001b[0m\u001b[37m\u001b[0m \u001b[1m22s\u001b[0m 211ms/step - acc: 0.8974 - loss: 0.4219 - val_acc: 0.8943 - val_loss: 0.4043\n",
      "Epoch 27/30\n",
      "\u001b[1m100/100\u001b[0m \u001b[32m━━━━━━━━━━━━━━━━━━━━\u001b[0m\u001b[37m\u001b[0m \u001b[1m23s\u001b[0m 216ms/step - acc: 0.8965 - loss: 0.4445 - val_acc: 0.8943 - val_loss: 0.4183\n",
      "Epoch 28/30\n",
      "\u001b[1m100/100\u001b[0m \u001b[32m━━━━━━━━━━━━━━━━━━━━\u001b[0m\u001b[37m\u001b[0m \u001b[1m23s\u001b[0m 217ms/step - acc: 0.9069 - loss: 0.3798 - val_acc: 0.8943 - val_loss: 0.3970\n",
      "Epoch 29/30\n",
      "\u001b[1m100/100\u001b[0m \u001b[32m━━━━━━━━━━━━━━━━━━━━\u001b[0m\u001b[37m\u001b[0m \u001b[1m23s\u001b[0m 210ms/step - acc: 0.8741 - loss: 0.4190 - val_acc: 0.8943 - val_loss: 0.4128\n",
      "Epoch 30/30\n",
      "\u001b[1m100/100\u001b[0m \u001b[32m━━━━━━━━━━━━━━━━━━━━\u001b[0m\u001b[37m\u001b[0m \u001b[1m23s\u001b[0m 215ms/step - acc: 0.9026 - loss: 0.4042 - val_acc: 0.8943 - val_loss: 0.4731\n"
     ]
    }
   ],
   "source": [
    "history = model.fit(\n",
    "      train_generator,\n",
    "      steps_per_epoch=100,\n",
    "      epochs=30,\n",
    "      validation_data=validation_generator,\n",
    "      validation_steps=50)\n"
   ]
  },
  {
   "cell_type": "code",
   "execution_count": 26,
   "metadata": {},
   "outputs": [
    {
     "data": {
      "image/png": "[encoded data removed]",
      "text/plain": [
       "<Figure size 640x480 with 1 Axes>"
      ]
     },
     "metadata": {},
     "output_type": "display_data"
    },
    {
     "data": {
      "image/png": "[encoded data removed]",
      "text/plain": [
       "<Figure size 640x480 with 1 Axes>"
      ]
     },
     "metadata": {},
     "output_type": "display_data"
    }
   ],
   "source": [
    "import matplotlib.pyplot as plt\n",
    "acc = history.history['acc']\n",
    "val_acc = history.history['val_acc']\n",
    "loss = history.history['loss']\n",
    "val_loss = history.history['val_loss']\n",
    "plt.ylim(0,1)\n",
    "\n",
    "epochs = range(1, len(acc) + 1)\n",
    "\n",
    "plt.plot(epochs, acc, 'bo', label='Training acc')\n",
    "plt.plot(epochs, val_acc, 'b', label='Validation acc')\n",
    "plt.title('Training and validation accuracy')\n",
    "plt.legend()\n",
    "\n",
    "plt.figure()\n",
    "\n",
    "plt.plot(epochs, loss, 'bo', label='Training loss')\n",
    "plt.plot(epochs, val_loss, 'b', label='Validation loss')\n",
    "plt.title('Training and validation loss')\n",
    "plt.legend()\n",
    "\n",
    "plt.show()\n",
    "     \n"
   ]
  },
  {
   "cell_type": "code",
   "execution_count": 28,
   "metadata": {},
   "outputs": [
    {
     "name": "stdout",
     "output_type": "stream",
     "text": [
      "Epoch 1/30\n",
      "\u001b[1m 25/100\u001b[0m \u001b[32m━━━━━\u001b[0m\u001b[37m━━━━━━━━━━━━━━━\u001b[0m \u001b[1m54s\u001b[0m 728ms/step - acc: 0.8680 - loss: 0.4875"
     ]
    },
    {
     "name": "stderr",
     "output_type": "stream",
     "text": [
      "c:\\Users\\selloh\\.conda\\envs\\tf-cpu\\lib\\contextlib.py:137: UserWarning: Your input ran out of data; interrupting training. Make sure that your dataset or generator can generate at least `steps_per_epoch * epochs` batches. You may need to use the `.repeat()` function when building your dataset.\n",
      "  self.gen.throw(typ, value, traceback)\n"
     ]
    },
    {
     "name": "stdout",
     "output_type": "stream",
     "text": [
      "\u001b[1m100/100\u001b[0m \u001b[32m━━━━━━━━━━━━━━━━━━━━\u001b[0m\u001b[37m\u001b[0m \u001b[1m24s\u001b[0m 218ms/step - acc: 0.8754 - loss: 0.4367 - val_acc: 0.8943 - val_loss: 0.3970\n",
      "Epoch 2/30\n",
      "\u001b[1m100/100\u001b[0m \u001b[32m━━━━━━━━━━━━━━━━━━━━\u001b[0m\u001b[37m\u001b[0m \u001b[1m23s\u001b[0m 214ms/step - acc: 0.8986 - loss: 0.3874 - val_acc: 0.8943 - val_loss: 0.3900\n",
      "Epoch 3/30\n",
      "\u001b[1m100/100\u001b[0m \u001b[32m━━━━━━━━━━━━━━━━━━━━\u001b[0m\u001b[37m\u001b[0m \u001b[1m23s\u001b[0m 214ms/step - acc: 0.8833 - loss: 0.3995 - val_acc: 0.8943 - val_loss: 0.3832\n",
      "Epoch 4/30\n",
      "\u001b[1m100/100\u001b[0m \u001b[32m━━━━━━━━━━━━━━━━━━━━\u001b[0m\u001b[37m\u001b[0m \u001b[1m24s\u001b[0m 218ms/step - acc: 0.8833 - loss: 0.4140 - val_acc: 0.8943 - val_loss: 0.4424\n",
      "Epoch 5/30\n",
      "\u001b[1m100/100\u001b[0m \u001b[32m━━━━━━━━━━━━━━━━━━━━\u001b[0m\u001b[37m\u001b[0m \u001b[1m24s\u001b[0m 218ms/step - acc: 0.9033 - loss: 0.3821 - val_acc: 0.8943 - val_loss: 0.4100\n",
      "Epoch 6/30\n",
      "\u001b[1m100/100\u001b[0m \u001b[32m━━━━━━━━━━━━━━━━━━━━\u001b[0m\u001b[37m\u001b[0m \u001b[1m23s\u001b[0m 213ms/step - acc: 0.8979 - loss: 0.4020 - val_acc: 0.8943 - val_loss: 0.3854\n",
      "Epoch 7/30\n",
      "\u001b[1m100/100\u001b[0m \u001b[32m━━━━━━━━━━━━━━━━━━━━\u001b[0m\u001b[37m\u001b[0m \u001b[1m23s\u001b[0m 215ms/step - acc: 0.8998 - loss: 0.3972 - val_acc: 0.8943 - val_loss: 0.4116\n",
      "Epoch 8/30\n",
      "\u001b[1m100/100\u001b[0m \u001b[32m━━━━━━━━━━━━━━━━━━━━\u001b[0m\u001b[37m\u001b[0m \u001b[1m23s\u001b[0m 214ms/step - acc: 0.9037 - loss: 0.4058 - val_acc: 0.8943 - val_loss: 0.3961\n",
      "Epoch 9/30\n",
      "\u001b[1m100/100\u001b[0m \u001b[32m━━━━━━━━━━━━━━━━━━━━\u001b[0m\u001b[37m\u001b[0m \u001b[1m23s\u001b[0m 214ms/step - acc: 0.9063 - loss: 0.3671 - val_acc: 0.8943 - val_loss: 0.4608\n",
      "Epoch 10/30\n",
      "\u001b[1m100/100\u001b[0m \u001b[32m━━━━━━━━━━━━━━━━━━━━\u001b[0m\u001b[37m\u001b[0m \u001b[1m23s\u001b[0m 215ms/step - acc: 0.8982 - loss: 0.3945 - val_acc: 0.8943 - val_loss: 0.3976\n",
      "Epoch 11/30\n",
      "\u001b[1m100/100\u001b[0m \u001b[32m━━━━━━━━━━━━━━━━━━━━\u001b[0m\u001b[37m\u001b[0m \u001b[1m23s\u001b[0m 213ms/step - acc: 0.8858 - loss: 0.3832 - val_acc: 0.8943 - val_loss: 0.3798\n",
      "Epoch 12/30\n",
      "\u001b[1m100/100\u001b[0m \u001b[32m━━━━━━━━━━━━━━━━━━━━\u001b[0m\u001b[37m\u001b[0m \u001b[1m23s\u001b[0m 213ms/step - acc: 0.8951 - loss: 0.3875 - val_acc: 0.8943 - val_loss: 0.4072\n",
      "Epoch 13/30\n",
      "\u001b[1m100/100\u001b[0m \u001b[32m━━━━━━━━━━━━━━━━━━━━\u001b[0m\u001b[37m\u001b[0m \u001b[1m23s\u001b[0m 212ms/step - acc: 0.8905 - loss: 0.4133 - val_acc: 0.8943 - val_loss: 0.4043\n",
      "Epoch 14/30\n",
      "\u001b[1m100/100\u001b[0m \u001b[32m━━━━━━━━━━━━━━━━━━━━\u001b[0m\u001b[37m\u001b[0m \u001b[1m23s\u001b[0m 216ms/step - acc: 0.8981 - loss: 0.4091 - val_acc: 0.8943 - val_loss: 0.3814\n",
      "Epoch 15/30\n",
      "\u001b[1m100/100\u001b[0m \u001b[32m━━━━━━━━━━━━━━━━━━━━\u001b[0m\u001b[37m\u001b[0m \u001b[1m23s\u001b[0m 213ms/step - acc: 0.9012 - loss: 0.3984 - val_acc: 0.8943 - val_loss: 0.4963\n",
      "Epoch 16/30\n",
      "\u001b[1m100/100\u001b[0m \u001b[32m━━━━━━━━━━━━━━━━━━━━\u001b[0m\u001b[37m\u001b[0m \u001b[1m23s\u001b[0m 214ms/step - acc: 0.9029 - loss: 0.3941 - val_acc: 0.8943 - val_loss: 0.3790\n",
      "Epoch 17/30\n",
      "\u001b[1m100/100\u001b[0m \u001b[32m━━━━━━━━━━━━━━━━━━━━\u001b[0m\u001b[37m\u001b[0m \u001b[1m23s\u001b[0m 221ms/step - acc: 0.8905 - loss: 0.3762 - val_acc: 0.8943 - val_loss: 0.3894\n",
      "Epoch 18/30\n",
      "\u001b[1m100/100\u001b[0m \u001b[32m━━━━━━━━━━━━━━━━━━━━\u001b[0m\u001b[37m\u001b[0m \u001b[1m23s\u001b[0m 213ms/step - acc: 0.9056 - loss: 0.3600 - val_acc: 0.8943 - val_loss: 0.4002\n",
      "Epoch 19/30\n",
      "\u001b[1m100/100\u001b[0m \u001b[32m━━━━━━━━━━━━━━━━━━━━\u001b[0m\u001b[37m\u001b[0m \u001b[1m24s\u001b[0m 222ms/step - acc: 0.8977 - loss: 0.3870 - val_acc: 0.8943 - val_loss: 0.3706\n",
      "Epoch 20/30\n",
      "\u001b[1m100/100\u001b[0m \u001b[32m━━━━━━━━━━━━━━━━━━━━\u001b[0m\u001b[37m\u001b[0m \u001b[1m24s\u001b[0m 221ms/step - acc: 0.9031 - loss: 0.3769 - val_acc: 0.8943 - val_loss: 0.3998\n",
      "Epoch 21/30\n",
      "\u001b[1m100/100\u001b[0m \u001b[32m━━━━━━━━━━━━━━━━━━━━\u001b[0m\u001b[37m\u001b[0m \u001b[1m24s\u001b[0m 221ms/step - acc: 0.8528 - loss: 0.4605 - val_acc: 0.9024 - val_loss: 0.5624\n",
      "Epoch 22/30\n",
      "\u001b[1m100/100\u001b[0m \u001b[32m━━━━━━━━━━━━━━━━━━━━\u001b[0m\u001b[37m\u001b[0m \u001b[1m23s\u001b[0m 213ms/step - acc: 0.8920 - loss: 0.3884 - val_acc: 0.8943 - val_loss: 0.4007\n",
      "Epoch 23/30\n",
      "\u001b[1m100/100\u001b[0m \u001b[32m━━━━━━━━━━━━━━━━━━━━\u001b[0m\u001b[37m\u001b[0m \u001b[1m24s\u001b[0m 230ms/step - acc: 0.8978 - loss: 0.3718 - val_acc: 0.8943 - val_loss: 0.4271\n",
      "Epoch 24/30\n",
      "\u001b[1m100/100\u001b[0m \u001b[32m━━━━━━━━━━━━━━━━━━━━\u001b[0m\u001b[37m\u001b[0m \u001b[1m24s\u001b[0m 216ms/step - acc: 0.8991 - loss: 0.4041 - val_acc: 0.8943 - val_loss: 0.3849\n",
      "Epoch 25/30\n",
      "\u001b[1m100/100\u001b[0m \u001b[32m━━━━━━━━━━━━━━━━━━━━\u001b[0m\u001b[37m\u001b[0m \u001b[1m23s\u001b[0m 209ms/step - acc: 0.9008 - loss: 0.3902 - val_acc: 0.8943 - val_loss: 0.3788\n",
      "Epoch 26/30\n",
      "\u001b[1m100/100\u001b[0m \u001b[32m━━━━━━━━━━━━━━━━━━━━\u001b[0m\u001b[37m\u001b[0m \u001b[1m23s\u001b[0m 209ms/step - acc: 0.9005 - loss: 0.3892 - val_acc: 0.8943 - val_loss: 0.3698\n",
      "Epoch 27/30\n",
      "\u001b[1m100/100\u001b[0m \u001b[32m━━━━━━━━━━━━━━━━━━━━\u001b[0m\u001b[37m\u001b[0m \u001b[1m23s\u001b[0m 210ms/step - acc: 0.8838 - loss: 0.3671 - val_acc: 0.8943 - val_loss: 0.4282\n",
      "Epoch 28/30\n",
      "\u001b[1m100/100\u001b[0m \u001b[32m━━━━━━━━━━━━━━━━━━━━\u001b[0m\u001b[37m\u001b[0m \u001b[1m23s\u001b[0m 211ms/step - acc: 0.9058 - loss: 0.3553 - val_acc: 0.8943 - val_loss: 0.3696\n",
      "Epoch 29/30\n",
      "\u001b[1m100/100\u001b[0m \u001b[32m━━━━━━━━━━━━━━━━━━━━\u001b[0m\u001b[37m\u001b[0m \u001b[1m24s\u001b[0m 219ms/step - acc: 0.8922 - loss: 0.3702 - val_acc: 0.8943 - val_loss: 0.3912\n",
      "Epoch 30/30\n",
      "\u001b[1m100/100\u001b[0m \u001b[32m━━━━━━━━━━━━━━━━━━━━\u001b[0m\u001b[37m\u001b[0m \u001b[1m23s\u001b[0m 211ms/step - acc: 0.9041 - loss: 0.3533 - val_acc: 0.8943 - val_loss: 0.4437\n"
     ]
    }
   ],
   "source": [
    "history = model.fit(\n",
    "      train_generator,\n",
    "      steps_per_epoch=100,\n",
    "      epochs=30,\n",
    "      validation_data=validation_generator,\n",
    "      validation_steps=50)"
   ]
  },
  {
   "cell_type": "code",
   "execution_count": 29,
   "metadata": {},
   "outputs": [
    {
     "name": "stderr",
     "output_type": "stream",
     "text": [
      "WARNING:absl:You are saving your model as an HDF5 file via `model.save()` or `keras.saving.save_model(model)`. This file format is considered legacy. We recommend using instead the native Keras format, e.g. `model.save('my_model.keras')` or `keras.saving.save_model(model, 'my_model.keras')`. \n"
     ]
    }
   ],
   "source": [
    "model.save('DrivFace-ResNet.h5')\n"
   ]
  }
 ],
 "metadata": {
  "kernelspec": {
   "display_name": "tf-cpu",
   "language": "python",
   "name": "python3"
  },
  "language_info": {
   "codemirror_mode": {
    "name": "ipython",
    "version": 3
   },
   "file_extension": ".py",
   "mimetype": "text/x-python",
   "name": "python",
   "nbconvert_exporter": "python",
   "pygments_lexer": "ipython3",
   "version": "3.9.19"
  }
 },
 "nbformat": 4,
 "nbformat_minor": 2
}
